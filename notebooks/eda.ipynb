{
 "cells": [
  {
   "cell_type": "markdown",
   "id": "a363eb82-e7d4-49e4-80a0-c6683fda4340",
   "metadata": {},
   "source": [
    "# Exploratory Data Analysis\n",
    "\n",
    "Notebook dedicado para fazer análises dos valores, e possíveis inferências que podemos fazer em cima deles.\n",
    "Fazendo análises de atributos de forma individual, e também correlações."
   ]
  },
  {
   "cell_type": "code",
   "execution_count": null,
   "id": "b681867b-b9ed-4bc1-a955-2ae50c9f2890",
   "metadata": {},
   "outputs": [],
   "source": [
    "import pandas as pd\n",
    "import seaborn as sns\n",
    "import matplotlib.pyplot as plt"
   ]
  },
  {
   "cell_type": "code",
   "execution_count": null,
   "id": "b89616c5-d05d-4311-aa33-78ad2ffdd9bb",
   "metadata": {},
   "outputs": [],
   "source": [
    "pd.set_option('display.max_columns', None)\n",
    "sns.set_theme()"
   ]
  },
  {
   "cell_type": "code",
   "execution_count": null,
   "id": "05e9624e-1b37-403d-bcf8-f1b81182db50",
   "metadata": {},
   "outputs": [],
   "source": [
    "df = pd.read_csv('../data/processed/dados_ficha_a_desafio_processed.csv', \n",
    "                 parse_dates=[\n",
    "                     'data_nascimento', \n",
    "                     'data_atualizacao_cadastro',\n",
    "                     'updated_at',\n",
    "                     'data_cadastro'\n",
    "])"
   ]
  },
  {
   "cell_type": "code",
   "execution_count": null,
   "id": "7774464a-f8da-4db6-92f5-847a141e33f3",
   "metadata": {},
   "outputs": [],
   "source": [
    "# df.info()"
   ]
  },
  {
   "cell_type": "markdown",
   "id": "ad9a26da-828d-4237-aa66-0e6bbef3c3cf",
   "metadata": {},
   "source": [
    "## Objetivo e indagações\n",
    "\n",
    "Após fazer um pré processamento considerável, é possível pensar que em qual é o objetivo por trás desse dataset, e o que podemos extrair dele, através das análises dos registros, parece estar relacionado com uma ficha médica que é preenchida com as principais informações sobre o paciente, claro que excluindo dados pessoais, sendo possível deixar anonimizado, e mantém os principais dados das doenças, meios de transporte, comunicações e características físicas e outros detalhes. \n",
    "\n",
    "Esses dados podem estar relacionado alguma rede de saúde, que retém essas informações para usos futuros, seja para análises, predições ou até levatar dados passados sobre o usuário. Tendo isso em mente, como podemos levantar alguns insight?\n",
    "* Análise Univariada (focando somente na própria variável);\n",
    "* Análise Multivariada (principalmente com o foco em pares);"
   ]
  },
  {
   "cell_type": "markdown",
   "id": "4ae8d6d6-8ca9-47f4-8943-c31c2c8ad1e2",
   "metadata": {},
   "source": [
    "# Análise Univariada\n",
    "\n",
    "O objetivo aqui não é ficar tão repetitivo, mas tentar trazer os principais pontos que chamaram a atenção para tentar trazer algum insight que agregue no fim.\n",
    "\n",
    "### Atributo: Id_paciente"
   ]
  },
  {
   "cell_type": "code",
   "execution_count": null,
   "id": "13a292e6-a08d-4c67-a865-6c450c329f6b",
   "metadata": {},
   "outputs": [],
   "source": [
    "# df['id_paciente'].value_counts()"
   ]
  },
  {
   "cell_type": "code",
   "execution_count": null,
   "id": "619f05e6-7d93-4246-a65d-e7c591d8c3e3",
   "metadata": {},
   "outputs": [],
   "source": [
    "# df[df['id_paciente']=='933e58c0-1175-46d8-a1e6-4a534a257feb']"
   ]
  },
  {
   "cell_type": "markdown",
   "id": "e36f9035-3589-4ad6-b955-412a480ad991",
   "metadata": {},
   "source": [
    "Existe alguns valores duplicados em registros no atributo de 'id_paciente' que dá entender inicialmente que seriam para um mesmo paciente, porém não são de fato, quando vamos ver as características de cada registro, não são diferenças pequenas, são consideráveis, o que dá para entender que retratam indivíduos, diferentes. Provavelmente pode ter vindo de sistemas diferentes, mas coincidentalmente registraram o mesmo id para esses pacientes.\n",
    "\n",
    "O ideal para mim na situação seria tratar como identificações diferentes, criando algum identificador novo, podendo deixar essa coluna de 'id_paciente' de lado a princípio.\n"
   ]
  },
  {
   "cell_type": "markdown",
   "id": "5f3792e5-d7af-42d2-969f-fa3701f94abc",
   "metadata": {},
   "source": [
    "### Atributo: Renda Familiar\n",
    "\n",
    "Começando com uma análise dos seus valores e suas quantidades:"
   ]
  },
  {
   "cell_type": "code",
   "execution_count": null,
   "id": "c1353a9f-87fd-4d4e-aca7-1f63bdf504dd",
   "metadata": {},
   "outputs": [],
   "source": [
    "# df['renda_familiar'].value_counts()"
   ]
  },
  {
   "cell_type": "markdown",
   "id": "70eb89bb-c88c-427f-97cd-71cb5b377c32",
   "metadata": {},
   "source": [
    "Com esses dados é possível ver como é a distribuição de renda dentre os indivíduos, onde podemos checar que mais de 75% dos indivíduos tem como renda_familiar até 2 Salários Mínimos. A princípio não sei dizer que representa bem a distribuição de renda brasileira, porém é possível fazer pesquisas com os dados do IBGE, porém pode ser do escopo da análise."
   ]
  },
  {
   "cell_type": "code",
   "execution_count": null,
   "id": "913f2508-0361-43a5-8126-13cee1c85d8f",
   "metadata": {},
   "outputs": [],
   "source": [
    "order_1 = ['1/4 Salário Mínimo',\n",
    " '1/2 Salário Mínimo',\n",
    " '1 Salário Mínimo',\n",
    " '2 Salários Mínimos',\n",
    " '3 Salários Mínimos',\n",
    " '4 Salários Mínimos',\n",
    " 'Mais de 4 Salários Mínimos']\n",
    "\n",
    "\n",
    "ax = sns.barplot(\n",
    "    df['renda_familiar'].value_counts(), order=order_1\n",
    ")\n",
    "plt.xticks(rotation=0, labels=['1/4', '1/2','1', '2', '3', '4', '4+'], ticks=order_1)\n",
    "plt.title('Renda Familar (por quantidade de Salários Mínimos)')\n",
    "plt.xlabel(\"Quantidade de Salários Mínimos\")\n",
    "plt.ylabel(\"Quantidade de registros\")\n",
    "plt.show()"
   ]
  },
  {
   "cell_type": "markdown",
   "id": "76dac392-b366-4625-9717-6c65e22d3de2",
   "metadata": {},
   "source": [
    "### Atributo: Escolaridade\n",
    "\n",
    "De forma parecida podemos ver como os pacientes são retratados aqui através da escolaridade, fazendo uma visualiação muito parecida."
   ]
  },
  {
   "cell_type": "code",
   "execution_count": null,
   "id": "f1040f18-af41-42a8-911d-e2bc93092d46",
   "metadata": {},
   "outputs": [],
   "source": [
    "order_2 = [\n",
    "    'Não sabe ler/escrever',\n",
    "    'Fundamental Incompleto',\n",
    "    'Fundamental Completo',\n",
    "    'Alfabetizado',\n",
    "    'Médio Incompleto',\n",
    "    'Médio Completo',\n",
    "    'Superior incompleto',\n",
    "    'Superior completo',\n",
    "    'Especialização/Residência',\n",
    "    'Mestrado',\n",
    "    'Doutorado']\n",
    "\n",
    "\n",
    "ax = sns.barplot(\n",
    "    df['escolaridade'].value_counts(), order=order_2\n",
    ")\n",
    "plt.xticks(\n",
    "    rotation=-40, \n",
    "    labels=[\n",
    "        'Não sabe ler', 'Fund. Inc', 'Fund. Comp',\n",
    "        'Alfab', 'Med. Inc.', 'Med. Comp', 'Sup. Inc.',\n",
    "        'Sup. Comp.', 'Esp/Res.', 'Mest', 'Doc'\n",
    "    ],\n",
    "    ticks=order_2\n",
    ")\n",
    "plt.title('Escolaridade dos Registros')\n",
    "plt.xlabel(\"Grau de Escolaridade\")\n",
    "plt.ylabel(\"Quantidade de registros\")\n",
    "plt.show()"
   ]
  },
  {
   "cell_type": "markdown",
   "id": "7898f499-ad87-4079-bf76-76fdb51e442c",
   "metadata": {
    "execution": {
     "iopub.execute_input": "2025-02-20T13:57:52.518485Z",
     "iopub.status.busy": "2025-02-20T13:57:52.518209Z",
     "iopub.status.idle": "2025-02-20T13:57:52.525285Z",
     "shell.execute_reply": "2025-02-20T13:57:52.524013Z",
     "shell.execute_reply.started": "2025-02-20T13:57:52.518468Z"
    }
   },
   "source": [
    "Podemos ver que grande parte dos dados dos pacientes mostram que maior parte deles tem Fundamental Incompleto e Ensino Médio Completo, e de forma ensino superior em diante são aqueles que estão após, são os que menos tem registros. Novamente poderíamos tentar fazer comparações com dados do IBGE para ver se é uma retratação, porém sai do escopo. Acredito que é mais interessante ver esses valores agora sendo cruzados com os de outros atributos."
   ]
  },
  {
   "cell_type": "markdown",
   "id": "56104194-d0bf-453a-a772-71bbd7031203",
   "metadata": {},
   "source": [
    "### Atributo: Criança matriculada em creche, pré escola (Avançando um pouco para o multivalorado)\n",
    "\n",
    "Através desse atributo, e segundo a descrição de 'Indicação se a criança está matriculada em creche ou pré-escola', podemos ver quais são os usuários tem filhos matriculados em creches e pré-escolas, ou se a criança própria estaria matriculada. Indo um pouco mais a fundo para tentar entender qual o melhor conceito que se encaixa, adicionei a atributo de 'data_nascimento' para checar o comportamento dos registros que contém crianças na creche."
   ]
  },
  {
   "cell_type": "code",
   "execution_count": null,
   "id": "cea9daef-7eb1-4d57-b634-e0ee081b354e",
   "metadata": {},
   "outputs": [],
   "source": [
    "df_contem_crianca = df[['data_nascimento', 'crianca_matriculada_creche_pre_escola']][df['crianca_matriculada_creche_pre_escola']==1].sort_values(by='data_nascimento')"
   ]
  },
  {
   "cell_type": "code",
   "execution_count": null,
   "id": "425a3264-9296-4001-9f36-4511c113983b",
   "metadata": {},
   "outputs": [],
   "source": [
    "df_contem_crianca['ano'] = df_contem_crianca['data_nascimento'].dt.year\n",
    "df_agrupado = df_contem_crianca.groupby('ano').size().reset_index(name='quantidade')\n",
    "\n",
    "# Plotando o scatterplot\n",
    "plt.figure(figsize=(10, 5))\n",
    "ax = sns.scatterplot(data=df_agrupado, x='ano', y='quantidade')\n",
    "ax.set_xlabel('Ano de Nascimento')\n",
    "ax.set_ylabel('Quantidade de Crianças Matriculadas')\n",
    "plt.xticks(rotation=45)\n",
    "plt.show()"
   ]
  },
  {
   "cell_type": "markdown",
   "id": "8b0f7d9f-f6f2-45b5-b2fc-7de8ae82ed10",
   "metadata": {},
   "source": [
    "Com esse gráfico podemos pensar que grande parte dos registros contam como se seus filhos tivessem em época de creche, porém também há dados que mostram como se o próprio paciente fosse a creche ou pré-escola e também a o outro extremo, de paciente que nasceram em torno de 1920, que contém criança na creche ou pré-escola, como se seu neto ou bisneto satisfazesse essa condição.\n",
    "\n",
    "Claro que não podemos deixar de pensar que tenha dados inválidos ou incorretos, mas não fica claro essa correlação entre os atributos, não tendo um significado exato."
   ]
  },
  {
   "cell_type": "markdown",
   "id": "748f2bb1-9f5d-489d-acf7-6c556b998d0d",
   "metadata": {},
   "source": [
    "### Atributo: Meio de transporte\n"
   ]
  },
  {
   "cell_type": "code",
   "execution_count": null,
   "id": "8114d6f5-4728-4738-bf15-81e3ff709ab6",
   "metadata": {},
   "outputs": [],
   "source": [
    "colunas_transporte = [\n",
    "    'meios_transporte_alternativo', 'meios_transporte_animal', 'meios_transporte_bicicleta',\n",
    "    'meios_transporte_caminhao', 'meios_transporte_carro', 'meios_transporte_carroca',\n",
    "    'meios_transporte_maritimo', 'meios_transporte_metro', 'meios_transporte_outros',\n",
    "    'meios_transporte_trem', 'meios_transporte_onibus'\n",
    "]\n",
    "\n",
    "# Contar quantos valores \"True\" existem em cada coluna\n",
    "contagem_transporte = df[colunas_transporte].sum().sort_values(ascending=False)\n",
    "\n",
    "# Criar rótulos mais curtos removendo \"meios_transporte_\"\n",
    "nomes_formatados = [nome.replace(\"meios_transporte_\", \"\").capitalize() for nome in contagem_transporte.index]\n",
    "\n",
    "# Criar um gráfico de barras\n",
    "plt.figure(figsize=(12, 6))\n",
    "ax = sns.barplot(x=contagem_transporte.values, y=nomes_formatados)\n",
    "\n",
    "# Ajustar os rótulos\n",
    "plt.xlabel(\"Quantidade de Pessoas que Utilizam\")\n",
    "plt.ylabel(\"Meios de Transporte\")\n",
    "plt.title(\"Uso de Diferentes Meios de Transporte\")\n",
    "plt.show()"
   ]
  },
  {
   "cell_type": "markdown",
   "id": "a7e214bb-9ae5-4485-a594-29e32db625cc",
   "metadata": {},
   "source": [
    "Lembrando que para esse atributo, era um caso multivalorado e poderia ter valores nulos, a soma total dessa contagem não deve estar relacionada com a quantidade de registros.\n",
    "\n",
    "Maior parte das pessoas utilizam ônibus e carro, isso alguma forma pode se relacionar com a renda familiar que vimos anteriormente, mas provavelmente devemos levar mais fatores em consideração.\n",
    "\n",
    "Poderíamos repetir isso para as outras colunas que eram multivaloradas, porém isso pode ser mais repetitivo, com essas análises conseguimos compreender um pouco melhor o dataset que estamos trabalhando e podemos tentar correr atrás agora de algumas análises multivaloradas.\n",
    "\n",
    "---\n",
    "\n",
    "# Análise Multivalorada\n",
    "\n",
    "Como maior parte dos dados é multivariado, a principal forma para mim de comparar dados será fazer pivot_tables que eu possa ter uma visão mais adequada sobre os dados, talvez até um heatmap.\n",
    "\n",
    "### Renda Familiar X Situação Profissional\n",
    "\n",
    "Vamos ver se os dados estão consistentes e caso haja alguma discrepância analisar o motivo."
   ]
  },
  {
   "cell_type": "code",
   "execution_count": null,
   "id": "f8785b5e-a2f4-46be-9130-a30187974ae3",
   "metadata": {},
   "outputs": [],
   "source": [
    "pivot = pd.crosstab(df['situacao_profissional'], df['renda_familiar'], \n",
    "                                   values=df['renda_familiar'], aggfunc='size', \n",
    "                                   dropna=False, normalize=True) * 100\n",
    "pivot2 = pivot[order_1].copy()\n",
    "# pivot2"
   ]
  },
  {
   "cell_type": "code",
   "execution_count": null,
   "id": "a34f4fd6-41cf-46c5-adef-d35091957389",
   "metadata": {},
   "outputs": [],
   "source": [
    "plt.figure(figsize=(12, 6))\n",
    "sns.heatmap(pivot2, annot=True, cmap='YlGnBu', fmt='.2f', cbar=True)\n",
    "plt.title(\"Heatmap de Percentual - Renda Familiar vs Situação Profissional\")\n",
    "plt.show()"
   ]
  },
  {
   "cell_type": "markdown",
   "id": "a22a3033-c227-40c1-89ce-d0b206bd9dee",
   "metadata": {},
   "source": [
    "Esses dados mostram como é a relação entre os atributos, os números dentro da tabela representam a contagem de indivíduos em cada combinação de situação profissional e faixa de renda, e como esperado maior partes os registros ficam em volta de emprego formal, e as rendas de 1 e 2 Salários mínimos. Isso indica que o emprego formal está fortemente associado a rendas familiares mais elevadas. Ao mesmo tempo, a desigualdade de renda é evidente, com pessoas desempregadas e em trabalhos informais concentradas nas faixas de renda mais baixas.\n",
    "\n",
    "Temos alguns casos que são Não definidos, porém podem ser entendidos com uma análise mais profunda nesses registros.\n",
    "\n",
    "---\n",
    "\n",
    "### Meios de Comunicação X Escolaridade.\n",
    "\n",
    "Essa análise, pensando no contexto dos dados originais, porém ser interessantes para encontrar meios mais práticos de entrar em contato com a pessoa através do nível de escolaridade, ou quem sabe se for mais adequado data de nascimento, pode ser feito uma continuação da análise para tentar ir mais longe em como é o melhor meio de entrar em contato com o paciente."
   ]
  },
  {
   "cell_type": "code",
   "execution_count": null,
   "id": "76c21ee6-57e2-4546-96f7-5560da96c474",
   "metadata": {},
   "outputs": [],
   "source": []
  },
  {
   "cell_type": "code",
   "execution_count": null,
   "id": "a7a0718c-9d75-496e-99d0-55522422f63a",
   "metadata": {},
   "outputs": [],
   "source": [
    "meios_comunicacao = [\n",
    "    'meios_comunicacao_grupos_religiosos', 'meios_comunicacao_internet', \n",
    "    'meios_comunicacao_jornal', 'meios_comunicacao_outros',\n",
    "    'meios_comunicacao_revista', 'meios_comunicacao_radio', 'meios_comunicacao_televisao'\n",
    "]\n",
    "\n",
    "crosstabs = []\n",
    "\n",
    "for meio in meios_comunicacao:\n",
    "    # Criar a crosstab filtrando apenas os valores True\n",
    "    crosstab_temp = pd.crosstab(df['escolaridade'], df[meio])\n",
    "\n",
    "    # Manter apenas a coluna True e renomeá-la com o nome do meio de comunicação\n",
    "    if True in crosstab_temp.columns:\n",
    "        crosstab_temp = crosstab_temp[True]\n",
    "        crosstab_temp.name = meio.replace(\"meios_comunicacao_\", \"\")  # Removendo prefixo\n",
    "    else:\n",
    "        # Se não houver valores True, criar uma coluna zerada\n",
    "        crosstab_temp = pd.Series(0, index=df['escolaridade'].unique(), name=meio.replace(\"meios_comunicacao_\", \"\"))\n",
    "\n",
    "    crosstabs.append(crosstab_temp)\n",
    "\n",
    "# Concatenar todos os crosstabs em uma única tabela\n",
    "crosstab_final = pd.concat(crosstabs, axis=1)\n"
   ]
  },
  {
   "cell_type": "code",
   "execution_count": null,
   "id": "f6d7b4cf-2f04-4d9c-ac85-a58520e6dd6f",
   "metadata": {},
   "outputs": [],
   "source": [
    "plt.figure(figsize=(12, 6))\n",
    "sns.heatmap(crosstab_final, annot=True, cmap='YlGnBu', fmt='.2f', cbar=True)\n",
    "plt.title(\"Heatmap de Meios de Comunicação vs Escolaridade\")\n",
    "plt.show()"
   ]
  },
  {
   "cell_type": "markdown",
   "id": "2f87c591-53f1-41e2-ade5-f4ec977fca1a",
   "metadata": {},
   "source": [
    "Com esse heatmap, podemos visualizar quais os principais meios de comunicação por escolaridade, de cara vemos que a escolaridade de médio completo e o fundamental incompleto são os que mais tem registros, porém eles também são os que mais tem pelo dataset. Interessante também que no meio de comunicação, não temos celulares ou se eles já englobam em internet. Visto que são dados atuais, cabe o questionamento sobre esses meios de comunicações.\n",
    "\n",
    "Além disso, podemos ver pelas linhas que o meio de comunicação pelo radio ainda é bastante utilizado, e cada vez menos jornais e revistas, meios físicos estão saindo cada vez mais para meios digitais. Isso para qualquer nível de escolaridade.\n",
    "\n",
    "Poderíamos tentar acrescentar mais detalhes sobre esses dados introduzindo mais questões sobre data de nascimento e até de renda familiar, porém traria complexidades muito maiores."
   ]
  },
  {
   "cell_type": "markdown",
   "id": "e99d8a93-ede1-4e60-bc05-b47e98532393",
   "metadata": {},
   "source": [
    "---\n",
    "\n",
    "De forma geral, poderia ter feito mais análise, porém para não ficar tão extenso escolhi fazer dos principais atributos que me chamaram a atenção. Porém tem uma vasta combinações de atributos e ideias para explorar e entender mais como os dados estão distribuídos e propriamente entender o contexto desses dados."
   ]
  }
 ],
 "metadata": {
  "kernelspec": {
   "display_name": "Python 3 (ipykernel)",
   "language": "python",
   "name": "python3"
  },
  "language_info": {
   "codemirror_mode": {
    "name": "ipython",
    "version": 3
   },
   "file_extension": ".py",
   "mimetype": "text/x-python",
   "name": "python",
   "nbconvert_exporter": "python",
   "pygments_lexer": "ipython3",
   "version": "3.12.3"
  }
 },
 "nbformat": 4,
 "nbformat_minor": 5
}
