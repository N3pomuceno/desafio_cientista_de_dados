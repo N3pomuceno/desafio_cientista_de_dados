{
 "cells": [
  {
   "cell_type": "markdown",
   "id": "e68184fc-9837-43ce-ab9d-c0e346353aff",
   "metadata": {},
   "source": [
    "# Preprocessing Data\n",
    "\n",
    "Lembrando que precisa fazer as seguintes demandas:\n",
    "\n",
    "* Explore e analise cada um dos campos disponíveis entendendo o tipo de preenchimento que possuem.\n",
    "* Dado o contexto de ingestão e criação da informação, traga características que chamam atenção e aponte problemas contidos no dataset. A ideia aqui é avaliar a sua capacidade analítica, fique a vontade para escrever inferências sobre como o problema pode ter sido criado, questionamentos que poderíamos levar aos fornecedores ou outras análises que podem ser feitas.\n",
    "\n",
    "Vamos utilizar as descrições e fazer uma análise por alto de cada campo, para entender o que precisa ser feito\n"
   ]
  },
  {
   "cell_type": "code",
   "execution_count": 1,
   "id": "77740c4d-6be5-44c4-ba84-c4ebe448b898",
   "metadata": {
    "execution": {
     "iopub.execute_input": "2025-02-19T01:14:58.420453Z",
     "iopub.status.busy": "2025-02-19T01:14:58.420002Z",
     "iopub.status.idle": "2025-02-19T01:15:01.391601Z",
     "shell.execute_reply": "2025-02-19T01:15:01.390625Z",
     "shell.execute_reply.started": "2025-02-19T01:14:58.420430Z"
    }
   },
   "outputs": [],
   "source": [
    "import pandas as pd\n",
    "import seaborn as sns\n",
    "import numpy as np"
   ]
  },
  {
   "cell_type": "code",
   "execution_count": 2,
   "id": "418ec7eb-13e7-4937-9804-101834e0a649",
   "metadata": {
    "execution": {
     "iopub.execute_input": "2025-02-19T01:15:01.392641Z",
     "iopub.status.busy": "2025-02-19T01:15:01.392332Z",
     "iopub.status.idle": "2025-02-19T01:15:01.397660Z",
     "shell.execute_reply": "2025-02-19T01:15:01.396732Z",
     "shell.execute_reply.started": "2025-02-19T01:15:01.392620Z"
    }
   },
   "outputs": [],
   "source": [
    "pd.set_option('display.max_columns', None)"
   ]
  },
  {
   "cell_type": "code",
   "execution_count": 3,
   "id": "d48faf08-d6c5-401e-a1bb-d003c67a302b",
   "metadata": {
    "execution": {
     "iopub.execute_input": "2025-02-19T01:15:01.398848Z",
     "iopub.status.busy": "2025-02-19T01:15:01.398562Z",
     "iopub.status.idle": "2025-02-19T01:15:03.339746Z",
     "shell.execute_reply": "2025-02-19T01:15:03.338847Z",
     "shell.execute_reply.started": "2025-02-19T01:15:01.398829Z"
    }
   },
   "outputs": [],
   "source": [
    "df_original = pd.read_csv('../data/raw/dados_ficha_a_desafio.csv', encoding='UTF-8')\n",
    "df_info = pd.read_excel('../data/raw/descricao_de_campos.xlsx', skiprows=2)"
   ]
  },
  {
   "cell_type": "code",
   "execution_count": 4,
   "id": "13ea2674-ac98-4171-bdd2-a78a1f94800c",
   "metadata": {
    "execution": {
     "iopub.execute_input": "2025-02-19T01:15:03.341774Z",
     "iopub.status.busy": "2025-02-19T01:15:03.341431Z",
     "iopub.status.idle": "2025-02-19T01:15:03.363277Z",
     "shell.execute_reply": "2025-02-19T01:15:03.362526Z",
     "shell.execute_reply.started": "2025-02-19T01:15:03.341752Z"
    }
   },
   "outputs": [],
   "source": [
    "df = df_original.copy()"
   ]
  },
  {
   "cell_type": "markdown",
   "id": "44d085c1-f937-4d09-8eae-743fad9c9b58",
   "metadata": {},
   "source": [
    "Definido os campos, suas descrições, vou fazer uma análise para preencher as informações em um Json para depois colocar em um resultado final mais adequado, pelo Streamlit. Para cada coluna eu executo as próximas 3 colunas para preencher os dados das análises no json."
   ]
  },
  {
   "cell_type": "code",
   "execution_count": 5,
   "id": "240b54b1-b98a-47b9-8ead-fa10b1f052de",
   "metadata": {
    "execution": {
     "iopub.execute_input": "2025-02-19T01:15:03.364247Z",
     "iopub.status.busy": "2025-02-19T01:15:03.364022Z",
     "iopub.status.idle": "2025-02-19T01:15:03.368663Z",
     "shell.execute_reply": "2025-02-19T01:15:03.367736Z",
     "shell.execute_reply.started": "2025-02-19T01:15:03.364229Z"
    }
   },
   "outputs": [],
   "source": [
    "# df_info"
   ]
  },
  {
   "cell_type": "code",
   "execution_count": 6,
   "id": "105896da-2704-45f3-9f61-d7ed6d56601f",
   "metadata": {
    "execution": {
     "iopub.execute_input": "2025-02-19T01:15:03.370805Z",
     "iopub.status.busy": "2025-02-19T01:15:03.369526Z",
     "iopub.status.idle": "2025-02-19T01:15:03.382115Z",
     "shell.execute_reply": "2025-02-19T01:15:03.381188Z",
     "shell.execute_reply.started": "2025-02-19T01:15:03.370779Z"
    }
   },
   "outputs": [],
   "source": [
    "# df.columns"
   ]
  },
  {
   "cell_type": "code",
   "execution_count": 7,
   "id": "ae1a50fc-a156-4513-b699-1f4fa08ad67e",
   "metadata": {
    "execution": {
     "iopub.execute_input": "2025-02-19T01:15:03.383448Z",
     "iopub.status.busy": "2025-02-19T01:15:03.383065Z",
     "iopub.status.idle": "2025-02-19T01:15:03.397114Z",
     "shell.execute_reply": "2025-02-19T01:15:03.396128Z",
     "shell.execute_reply.started": "2025-02-19T01:15:03.383403Z"
    }
   },
   "outputs": [],
   "source": [
    "# col = 'col_name'\n",
    "# print(df[col].info())\n",
    "# print(df[col].value_counts())\n",
    "# print(df[col].describe())"
   ]
  },
  {
   "cell_type": "markdown",
   "id": "90dcab17-95a7-4ec9-a8ed-4d8296884c42",
   "metadata": {
    "jp-MarkdownHeadingCollapsed": true
   },
   "source": [
    "## Análise dos campos:\n",
    "\n",
    "```json\n",
    "{\n",
    "    \"id_paciente\": {\n",
    "        \"Descrição\": \"Identificador de paciente\",\n",
    "        \"Análise\": \" No formato de String, formatação de identificação com 36 caracteres, 99000 identificações diferentes com algumas repetições. Vale a pena analisar para verificar se há de fato duplicação de registro.\"\n",
    "    },\n",
    "    \"sexo\": {\n",
    "        \"Descrição\": \"Sexo.\",\n",
    "        \"Análise\": \"Formatação de String, separando entre 'Male e Female', maior quantidade de registros mulheres que homens.\"\n",
    "    },\n",
    "    \"obito\": {\n",
    "        \"Descrição\": \"Indicação de óbito.\",\n",
    "        \"Análise\": \"Formatação de String, de forma equivocada os valores parecem ser inconsistentes no tipo de dado, variando entre booleano e inteiro. Não mantendo o padrão. Seria adequado fazer alguma padronização nessa coluna.\"\n",
    "    },\n",
    "    \"bairro\": {\n",
    "        \"Descrição\": \"Nome do bairro.\",\n",
    "        \"Análise\": \"Formatação de String com nomes dos bairros, nenhum problema encontrado.\"\n",
    "    },\n",
    "    \"raca_cor\": {\n",
    "        \"Descrição\": \"Descrição de raça/cor.\",\n",
    "        \"Análise\": \"Formatação de String, coluna totalmente preenchida, por mais que um dos valores seja identificado como 'Não', não fica claro se o caso se enquadra como o usuário não quis responder, o usuário não declarou sua raça/cor ou pode ser um erro de digitação. A última opção é mais improvável, mas sendo casos mais isolados e inconsistente, substituir por nulo (NaN) é a melhor opção.\"\n",
    "    },\n",
    "    \"ocupacao\": {\n",
    "        \"Descrição\": \"Ocupação exercida.\",\n",
    "        \"Análise\": \"Formatação como String, todos não nulos, dados bem definidos. Nesse caso a maior parte está como 'Não se aplica', mas ainda sim é interessante para manter o valor do dado categórico.\"\n",
    "    },\n",
    "    \"religiao\": {\n",
    "        \"Descrição\": \"Religião exercida.\",\n",
    "        \"Análise\": \"Formatação de String, todos não nulos, porém com casos discrepantes. Tem valores que assumem informações não relacionadas com a coluna em si, como 'ORQUIDEA', ou 'ESB ALMIRANTE'. Esses casos podemos tornar os valores nulos. Existe uma redundância conceitual nos valores 'Sem religião' e 'Não', o que podemos juntar em uma coisa só, além do valor único 'Sim', que não agrega como informação. E o valor 'Outra' não agrega para a informação em si, mas como não tem muitas informações além do dataset, é mais adequado manter como está.\"\n",
    "    },\n",
    "    \"luz_eletrica\": {\n",
    "        \"Descrição\": \"Indicação se possui luz elétrica.\",\n",
    "        \"Análise\": \"Formatação de String, de forma equivocada os valores parecem ser inconsistentes no tipo de dado, variando entre booleano e inteiro. Não mantendo o padrão. Seria adequado fazer alguma padronização nessa coluna. Caso parecido com a coluna obito.\"\n",
    "    },\n",
    "    \"data_cadastro\": {\n",
    "        \"Descrição\": \"Data de cadastro do paciente.\",\n",
    "        \"Análise\": \"Formatação de String, claramente uma coluna de data, que não parece ter uma formatação bem definida, é valido fazer um tratamente para ter uma padronização.\"\n",
    "    },\n",
    "    \"escolaridade\": {\n",
    "        \"Descrição\": \"Nível de escolaridade.\",\n",
    "        \"Análise\": \"Formatação em String, com categorias bem definidas, uma coluna que aparenta não ter grandes problemas, com dados válidos e concisos.\"\n",
    "    },\n",
    "    \"nacionalidade\": {\n",
    "        \"Descrição\": \"Nacionalidade.\",\n",
    "        \"Análise\": \"Formatação em String, nenhum problema a princípio visto na composição da coluna.\"\n",
    "    },\n",
    "    \"renda_familiar\": {\n",
    "        \"Descrição\": \"Renda familiar.\",\n",
    "        \"Análise\": \"Formatação em String, grande parte dos valores seguem o padrão de unidade de salário mínimo, porém há dos valores discrepantes que não está de acordo com o domínio da coluna: 'manhã' e 'internet'.\"\n",
    "    },\n",
    "    \"data_nascimento\": {\n",
    "        \"Descrição\": \"Data de nascimento.\",\n",
    "        \"Análise\": \"Formatação de String, claramente uma coluna de data, é valido fazer um tratamente para ter uma padronização com a tipagem correta.\"\n",
    "    },\n",
    "    \"em_situacao_de_rua\": {\n",
    "        \"Descrição\": \"Indicação se em situação de rua.\",\n",
    "        \"Análise\": \"Formatação de String, de forma equivocada os valores parecem ser inconsistentes no tipo de dado, variando entre booleano e inteiro. Não mantendo o padrão. Seria adequado fazer alguma padronização nessa coluna. Caso parecido com a coluna obito.\"\n",
    "    },\n",
    "    \"frequenta_escola\": {\n",
    "        \"Descrição\": \"Indicação se frequenta escola.\",\n",
    "        \"Análise\": \"Formatação em inteiro, caso booleano, bem definido, porém pela análise única da coluna os valores estão padronizados e fazem sentido, porém depois é necessário fazer uma análise comparando a escolaridade e se frequenta a escola, para ver se estão de acordo.\"\n",
    "    },\n",
    "    \"meios_transporte\": {\n",
    "        \"Descrição\": \"Meios de transporte utilizados.\",\n",
    "        \"Análise\": \"Formatação em String, caso de coluna multivalorada, seja como lista de dados ou só separados por vírgula, essa coluna sozinha não agrega tanto para a análise no formato atual, o adequado a se fazer é separação de cada valor único, com o devido tratamento necessário, e criar uma coluna para cada valor único e definir um valor booleano associado.\"\n",
    "    },\n",
    "    \"doencas_condicoes\": {\n",
    "        \"Descrição\": \"Doenças ou condições de saúde.\",\n",
    "        \"Análise\": \"Formatação em String, caso de coluna multivalorada, parecido com o caso da coluna meios_transporte. Inclusive o tratamento.\"\n",
    "    },\n",
    "    \"identidade_genero\": {\n",
    "        \"Descrição\": \"Identidade de gênero.\",\n",
    "        \"Análise\": \"Formatação em String, coluna com todos valores preenchidos, porém alguns detalhes que é necessário pensar sobre seus valores. O que o 'Não' significa para esse caso? Ele significa que o dado não foi levantado? Ou usuário não quis responder sobre? Isso deixa a pensar se vale a pena manter o 'Não' ou se vale substituir para valor nulo, vou partir do princípio que é a ausência da informação para alterar para valor nulo também. Além disso, alguns dos dados não estão associados com a identidade de gênero, e sim a orientação sexual do usuário ('Heterossexual', 'Homossexual', 'Bissexual'), nesses casos, acredito que o mais adequado para lidar com eles é torná-los nulos, pois não podemos assumir que é 'Outro' ou qualquer outro valor. A informação de 'Sim' também não agrega para o dado, podendo ser muito bem classificado como valor nulo.\"\n",
    "    },\n",
    "    \"meios_comunicacao\": {\n",
    "        \"Descrição\": \"Meios de comunicação utilizados.\",\n",
    "        \"Análise\": \"Formatação em String, caso de coluna multivalorada, parecido com o caso da coluna meios_transporte. Inclusive o tratamento. Após fazer o tratamento, foi possível verificar que alguns valores não tinham relação com domínio em si, como 'Mais de 4 Salários Mínimos', esses casos não se enquadra como meio de comunicação, deve ser válido tornar nulo seu valor.\"\n",
    "    },\n",
    "    \"orientacao_sexual\": {\n",
    "        \"Descrição\": \"Orientação sexual.\",\n",
    "        \"Análise\": \"Formatação em String, dados bem definidos e de acordo com o domínio esperado de valores.\"\n",
    "    },\n",
    "    \"possui_plano_saude\": {\n",
    "        \"Descrição\": \"Indicação se possui plano de saúde.\",\n",
    "        \"Análise\": \"Formatação de String, de forma equivocada os valores parecem ser inconsistentes no tipo de dado, variando entre booleano e inteiro. Não mantendo o padrão. Seria adequado fazer alguma padronização nessa coluna. Caso parecido com a coluna obito.\"\n",
    "    },\n",
    "    \"em_caso_doenca_procura\": {\n",
    "        \"Descrição\": \"Indicação sobre a quem procura em caso de doença.\",\n",
    "        \"Análise\": \"Formatação em String, caso de coluna multivalorada, parecido com o caso da coluna meios_transporte. Inclusive o tratamento.\"\n",
    "    },\n",
    "    \"situacao_profissional\": {\n",
    "        \"Descrição\": \"Situação profissional.\",\n",
    "        \"Análise\": \"Formatação de String, maior parte dos dados estão concisos, mas há alguns pontos para serem levantados. Dois casos que estão sendo outliers são 'Médico Urologista', que se enquadraria melhor como 'Emprego Formal', e 'SMS CAPS DIRCINHA E LINDA BATISTA AP 33', que é mais adequado ser um valor nulo, uma vez que não se enquadra no domínio esperado de valores. Além disso, existe duas especificações de Autônomo que envolve ter ou não previdência social, porém como tem o autônomo sem essa especificação, deve ser mais adequado manter somente autônomo, pois não temos como separar os casos de Autônomo em com ou sem previdência social, é mais adequado generalizar. Também é possível questionar quão próximo o 'Não trabalha' está entre 'Desempregado' e 'Pensionista / Aposentado', pois temos 3 classes que poderiam ser só duas, e 'Não trabalha' não fica tão claro o porquê, não dá contexto para a classificação. Porém por causa da falta de informação, pode ser mais adequado manter da forma atual.\"\n",
    "    },\n",
    "    \"vulnerabilidade_social\": {\n",
    "        \"Descrição\": \"Vulnerabilidades sociais.\",\n",
    "        \"Análise\": \"Formatação de String, de forma equivocada os valores parecem ser inconsistentes no tipo de dado, variando entre booleano e inteiro. Não mantendo o padrão. Seria adequado fazer alguma padronização nessa coluna. Caso parecido com a coluna obito.\"\n",
    "    },\n",
    "    \"data_atualizacao_cadastro\": {\n",
    "        \"Descrição\": \"Data da última atualização cadastral do paciente.\",\n",
    "        \"Análise\": \"Formatação de String, claramente uma coluna de data, que não parece ter uma formatação bem definida, é valido fazer um tratamente para ter uma padronização.\"\n",
    "    },\n",
    "    \"familia_beneficiaria_auxilio_brasil\": {\n",
    "        \"Descrição\": \"Indicação se a família do paciente é beneficiária do Auxílio Brasil.\",\n",
    "        \"Análise\": \"Formatação de String, de forma equivocada os valores parecem ser inconsistentes no tipo de dado, variando entre booleano e inteiro. Não mantendo o padrão. Seria adequado fazer alguma padronização nessa coluna. Caso parecido com a coluna obito.\"\n",
    "    },\n",
    "    \"crianca_matriculada_creche_pre_escola\": {\n",
    "        \"Descrição\": \"Indicação se a criança está matriculada em creche ou pré-escola.\",\n",
    "        \"Análise\": \"Formatação de String, de forma equivocada os valores parecem ser inconsistentes no tipo de dado, variando entre booleano e inteiro. Não mantendo o padrão. Seria adequado fazer alguma padronização nessa coluna. Caso parecido com a coluna obito.\"\n",
    "    },\n",
    "    \"altura\": {\n",
    "        \"Descrição\": \"Altura medida.\",\n",
    "        \"Análise\": \"Formatação em Float, somente 25 valores nulos, coluna de forma geral bem definida, só achei que ficou faltando a unidade explicitada para evitar confusão, apesar de estar claro que é em centímetros (cm).\"\n",
    "    },\n",
    "    \"peso\": {\n",
    "        \"Descrição\": \"Peso medido.\",\n",
    "        \"Análise\": \"Formatação em Float, mais de 100 valores nulos, coluna de forma geral bem definida, só achei que ficou faltando a unidade explicitada para evitar confusão, apesar de estar claro que é em quilos (Kg).\"\n",
    "    },\n",
    "    \"pressao_sistolica\": {\n",
    "        \"Descrição\": \"Pressão sistólica medida.\",\n",
    "        \"Análise\": \"Formatação em Float, com 40 valores nulos. Casos extremos valores chegam a ir a 0 até 900, casos que provavelmente tiveram erro de medida. Vale a pena verificar quais são os outliers, e dependendo da finalidade do dataset, pode ser mais válido substituir para nulos ou simplemente tirar os registros ou fazer algum tipo de marcação. Unidade de medida: mmHg.\"\n",
    "    },\n",
    "    \"pressao_diastolica\": {\n",
    "        \"Descrição\": \"Pressão diastólica medida.\",\n",
    "        \"Análise\": \"Formatação em Float, com 17 valores nulos. Casos extremos valores chegam a ir a 0 até 900, casos que provavelmente tiveram erro de medida. Vale a pena verificar quais são os outliers, e dependendo da finalidade do dataset, pode ser mais válido substituir para nulos ou simplemente tirar os registros ou fazer algum tipo de marcação. Unidade de medida: mmHg.\"\n",
    "    },\n",
    "    \"n_atendimentos_atencao_primaria\": {\n",
    "        \"Descrição\": \"Quantidade de atendimentos na atenção primária no último ano.\",\n",
    "        \"Análise\": \"Formatação em Inteiros, nenhum valor nulo. Aparenta estar com todos os dados dentro de um padrão estabelecido.\"\n",
    "    },\n",
    "    \"n_atendimentos_hospital\": {\n",
    "        \"Descrição\": \"Quantidade de atendimentos no hospital no último ano.\",\n",
    "        \"Análise\": \"Formatação em Inteiros, nenhum valor nulo. Aparenta estar com todos os dados dentro de um padrão estabelecido.\"\n",
    "    },\n",
    "    \"updated_at\": {\n",
    "        \"Descrição\": \"Data e hora da última atualização dos dados.\",\n",
    "        \"Análise\": \"Formatação de String, claramente uma coluna de data, que não parece ter uma formatação bem definida, é valido fazer um tratamente para ter uma padronização.\"\n",
    "    },\n",
    "    \"tipo\": {\n",
    "        \"Descrição\": \"Identifica se o dado veio de fluxo rotineiro ou outro tipo de fonte.\",\n",
    "        \"Análise\": \"Formatação em String, sem valores nulos. Aparenta estar bem definido os valores e sem discrepâncias.\"\n",
    "    }\n",
    "}\n",
    "\n",
    "\n",
    "```"
   ]
  },
  {
   "cell_type": "markdown",
   "id": "ef42bd8e-f813-4c85-9fc2-c24102f29ac3",
   "metadata": {},
   "source": [
    "Definida a análise geral podemos partir para as transformações, deixando bem claro o **plano**:\n",
    "* Dados Booleanos: Deixar padronizados;\n",
    "* Dados Categóricos/Monovalorados: Refazer algumas categorias que não se enquadram no contexto do atributo, e trazer um pouco mais de ideia  generalizada para ficar aberto para mais análises.\n",
    "* Dados Categóricos/Multivalorados: Refazer a coluna para criar uma nova coluna para cada valor único definido, e essas novas colunas serão Booleanos.\n",
    "* Dados de data/hora: Padronizar para facilitar entendimento e análise.\n",
    "\n",
    "Cada um deles terá uma explicação do porquê está sendo alterado com mais detalhes.\n",
    "\n",
    "---\n",
    "## Tratamento de Colunas\n",
    "### Tratamento de formatação \n",
    "\n",
    "Má prática de deixar 'hardcoded', porém como sendo uma coisa única, estou listando as colunas de cada situação referenciada anteriormente. A boa prática seria uma forma de generalizar para futuras situações, tentando estabelecer algum regex ou pelo nome da coluna para facilitar futuras demandas, porém como não é caso, estou indo mais direto.\n",
    "\n",
    "**Dados Categóricos**:"
   ]
  },
  {
   "cell_type": "code",
   "execution_count": 8,
   "id": "43f01622-e38f-4c86-9011-e6d5e40e3b72",
   "metadata": {
    "execution": {
     "iopub.execute_input": "2025-02-19T01:15:03.398414Z",
     "iopub.status.busy": "2025-02-19T01:15:03.398105Z",
     "iopub.status.idle": "2025-02-19T01:15:03.720396Z",
     "shell.execute_reply": "2025-02-19T01:15:03.719603Z",
     "shell.execute_reply.started": "2025-02-19T01:15:03.398393Z"
    }
   },
   "outputs": [],
   "source": [
    "# Hardcoded:\n",
    "\n",
    "cols_dados_categoricos = [\n",
    "    'luz_eletrica',\n",
    "    'obito',\n",
    "    'em_situacao_de_rua',\n",
    "    'possui_plano_saude',\n",
    "    'vulnerabilidade_social',\n",
    "    'familia_beneficiaria_auxilio_brasil',\n",
    "    'crianca_matriculada_creche_pre_escola',\n",
    "]\n",
    "\n",
    "def change_to_bool(val: str) -> int:\n",
    "    return 1 if val == \"True\" or val == \"1\" else 0\n",
    "\n",
    "for col in cols_dados_categoricos:\n",
    "    df[col] = df[col].map(change_to_bool)"
   ]
  },
  {
   "cell_type": "markdown",
   "id": "8e468e1a-d0d6-413c-83e6-2c4c4e92b6bc",
   "metadata": {},
   "source": [
    "**Datas**\n",
    "\n",
    "Alguns casos de datas não estão padronizados, por isso será necessário colocar \"mixed\" como parâmetro na formatação."
   ]
  },
  {
   "cell_type": "code",
   "execution_count": 9,
   "id": "a4676628-a531-4ab9-96d3-67345b886c58",
   "metadata": {
    "execution": {
     "iopub.execute_input": "2025-02-19T01:15:03.722636Z",
     "iopub.status.busy": "2025-02-19T01:15:03.722206Z",
     "iopub.status.idle": "2025-02-19T01:15:03.873768Z",
     "shell.execute_reply": "2025-02-19T01:15:03.872953Z",
     "shell.execute_reply.started": "2025-02-19T01:15:03.722614Z"
    }
   },
   "outputs": [],
   "source": [
    "cols_dados_data = [\n",
    "    'data_cadastro',\n",
    "    'data_nascimento',\n",
    "    'data_atualizacao_cadastro',\n",
    "    'updated_at',\n",
    "]\n",
    "\n",
    "for col in cols_dados_data:\n",
    "    df[col] = pd.to_datetime(df[col], format='mixed')"
   ]
  },
  {
   "cell_type": "markdown",
   "id": "e00f54c0-edb2-4117-8cea-73d8a6e2f213",
   "metadata": {},
   "source": [
    "**Dados multivalorados**\n",
    "\n",
    "Para uma maior explicação, dado que é um tratamento um pouco mais complexo, primeiro padronizamos cada registro para ser um lista, no mesmo encoding, respeitando quantidade de caracteres de cada caso, mantendo os valores bem definidos.\n",
    "\n",
    "Depois disso, para cada coluna dessa, a gente faz o processo de explosão (`df.explode('col_name')`), que transformará cada registro em múltiplos registros variando para cada elemento da lista que está na coluna definida, de forma que começará a ter uma redundância de dados, porém naquela coluna teremos agora separado cada valor único.\n",
    "\n",
    "Por fim, fazemos o `pd.get_dummies(df_explodido, columns=['col_name'])` que converte a coluna 'col_name' em variáveis dummies (one-hot encoding), e se torna uma coluna binária (1 se o valor da coluna está presente naquela linha e 0 caso contrário). Também fazemos um `.groupby(level=0).max()` pois reconstrói os dados agregando por índice original e pegando o maior valor para cada coluna gerada pelo get_dummies. Isso garante que, se na coluna definida apareceu em pelo menos uma linha daquele grupo, a coluna correspondente terá 1"
   ]
  },
  {
   "cell_type": "code",
   "execution_count": 10,
   "id": "91ae96fc-dc29-4af4-88c6-1ad2aed2c139",
   "metadata": {
    "execution": {
     "iopub.execute_input": "2025-02-19T01:15:03.874690Z",
     "iopub.status.busy": "2025-02-19T01:15:03.874481Z",
     "iopub.status.idle": "2025-02-19T01:20:43.990910Z",
     "shell.execute_reply": "2025-02-19T01:20:43.990152Z",
     "shell.execute_reply.started": "2025-02-19T01:15:03.874672Z"
    },
    "scrolled": true
   },
   "outputs": [],
   "source": [
    "cols_dados_multivalorados = [\n",
    "    'meios_transporte',\n",
    "    'doencas_condicoes',\n",
    "    'meios_comunicacao',\n",
    "    'em_caso_doenca_procura',\n",
    "]\n",
    "\n",
    "def trata_registro(row):\n",
    "    if pd.isna(row) or row == '[]':\n",
    "        return None\n",
    "    return [\n",
    "        elem.strip(' \"\\'').encode('ISO-8859-1').decode('unicode_escape')\n",
    "        for elem in row[1:-1].split(',')\n",
    "    ] if row[0] == '[' else row.split(', ')\n",
    "\n",
    "# Aplicação da função corrigida ao DataFrame\n",
    "for col in cols_dados_multivalorados:\n",
    "    df[col] = df[col].apply(lambda x:trata_registro(x))\n",
    "    df_explodido = df.explode(col)\n",
    "    df = pd.get_dummies(df_explodido, columns=[col]).groupby(level=0).max()"
   ]
  },
  {
   "cell_type": "markdown",
   "id": "72a4d554-57f5-4867-9012-806dfe339ce8",
   "metadata": {},
   "source": [
    "### Tratamento de Inconsistências\n",
    "\n",
    "Essa é uma parte mais delicada, pois estamos tratando as inconsistências dos dados originais, informações que não estavam de acordo com o esperado, e por ser uma informação errada, é válido retirar esses dados para evitar mais problemas em futuras análises ou predições.\n",
    "\n",
    "**raca_cor**\n",
    "\n",
    "O Valor 'Não' pode ser uma informação que não temos, ou o usuário não quis responder, e como consiste em só poucos casos, tornar nulo não é tão problemático."
   ]
  },
  {
   "cell_type": "code",
   "execution_count": 11,
   "id": "4df4b487-95bf-4763-86c6-7e8d8e01959f",
   "metadata": {
    "execution": {
     "iopub.execute_input": "2025-02-19T01:20:43.992247Z",
     "iopub.status.busy": "2025-02-19T01:20:43.991728Z",
     "iopub.status.idle": "2025-02-19T01:20:43.995297Z",
     "shell.execute_reply": "2025-02-19T01:20:43.994495Z",
     "shell.execute_reply.started": "2025-02-19T01:20:43.992227Z"
    }
   },
   "outputs": [],
   "source": [
    "# df['raca_cor'].value_counts()"
   ]
  },
  {
   "cell_type": "code",
   "execution_count": 12,
   "id": "7b30f999-5ea5-4f63-a37e-e6f71498f541",
   "metadata": {
    "execution": {
     "iopub.execute_input": "2025-02-19T01:20:43.997790Z",
     "iopub.status.busy": "2025-02-19T01:20:43.997492Z",
     "iopub.status.idle": "2025-02-19T01:20:44.023033Z",
     "shell.execute_reply": "2025-02-19T01:20:44.022203Z",
     "shell.execute_reply.started": "2025-02-19T01:20:43.997772Z"
    }
   },
   "outputs": [],
   "source": [
    "df['raca_cor'] = df['raca_cor'].replace('Não', np.nan)"
   ]
  },
  {
   "cell_type": "markdown",
   "id": "e0b40a12-ae4e-4e4a-a427-4bd6095b3d56",
   "metadata": {},
   "source": [
    "**religião**\n",
    "\n",
    "Tem dois pontos que precisam ser levantados, que são a separação de 'Sem religião' e 'Não' que podemos tratar como o mesmo caso. E valores discrepantes de como \"ESB ALMIRANTE\", \"10 EAP 01\", \"ORQUIDEA\", \"Acomp. Cresc. e Desenv. da Criança\" e \"Sim\", que não agregam para como dado para a coluna, pois se tratam sobre outro tema, ou no caso do 'Sim', não é possível inferir qual é a religião do usuário."
   ]
  },
  {
   "cell_type": "code",
   "execution_count": 13,
   "id": "f2c05bab-cbaf-496d-95dc-b20bb97c7780",
   "metadata": {
    "execution": {
     "iopub.execute_input": "2025-02-19T01:20:44.024204Z",
     "iopub.status.busy": "2025-02-19T01:20:44.023922Z",
     "iopub.status.idle": "2025-02-19T01:20:44.027830Z",
     "shell.execute_reply": "2025-02-19T01:20:44.026934Z",
     "shell.execute_reply.started": "2025-02-19T01:20:44.024186Z"
    }
   },
   "outputs": [],
   "source": [
    "# df['religiao'].value_counts()"
   ]
  },
  {
   "cell_type": "code",
   "execution_count": 14,
   "id": "9e49d43f-f33b-405a-8bfb-7cb37b4fc33e",
   "metadata": {
    "execution": {
     "iopub.execute_input": "2025-02-19T01:20:44.028842Z",
     "iopub.status.busy": "2025-02-19T01:20:44.028622Z",
     "iopub.status.idle": "2025-02-19T01:20:44.056000Z",
     "shell.execute_reply": "2025-02-19T01:20:44.055089Z",
     "shell.execute_reply.started": "2025-02-19T01:20:44.028824Z"
    }
   },
   "outputs": [],
   "source": [
    "valores_invalidos = [\n",
    "    \"ESB ALMIRANTE\", \"10 EAP 01\", \"ORQUIDEA\", \"Acomp. Cresc. e Desenv. da Criança\", \"Sim\",\n",
    "]\n",
    "df[\"religiao\"] = df[\"religiao\"].replace(valores_invalidos, np.nan)\n",
    "df[\"religiao\"] = df[\"religiao\"].replace(\"Não\", \"Sem religião\")"
   ]
  },
  {
   "cell_type": "markdown",
   "id": "fb71b155-01bd-41d8-989b-cc08a1b0f22b",
   "metadata": {},
   "source": [
    "**renda_familiar**\n",
    "\n",
    "Somente tratando dois valores únicos que não se enquadram como dado da coluna."
   ]
  },
  {
   "cell_type": "code",
   "execution_count": 15,
   "id": "dfd25035-92ad-4cc0-8dfa-1ae91c06a2db",
   "metadata": {
    "execution": {
     "iopub.execute_input": "2025-02-19T01:20:44.057100Z",
     "iopub.status.busy": "2025-02-19T01:20:44.056883Z",
     "iopub.status.idle": "2025-02-19T01:20:44.061743Z",
     "shell.execute_reply": "2025-02-19T01:20:44.060866Z",
     "shell.execute_reply.started": "2025-02-19T01:20:44.057082Z"
    }
   },
   "outputs": [],
   "source": [
    "# df['renda_familiar'].value_counts()"
   ]
  },
  {
   "cell_type": "code",
   "execution_count": 16,
   "id": "c61ffd50-7f8a-44db-ad00-8938beecef43",
   "metadata": {
    "execution": {
     "iopub.execute_input": "2025-02-19T01:20:44.062725Z",
     "iopub.status.busy": "2025-02-19T01:20:44.062482Z",
     "iopub.status.idle": "2025-02-19T01:20:44.113908Z",
     "shell.execute_reply": "2025-02-19T01:20:44.113089Z",
     "shell.execute_reply.started": "2025-02-19T01:20:44.062709Z"
    }
   },
   "outputs": [],
   "source": [
    "valores_invalidos = [\n",
    "    \"Manhã\", \"Internet\",\n",
    "]\n",
    "df[\"renda_familiar\"] = df[\"renda_familiar\"].replace(valores_invalidos, np.nan)"
   ]
  },
  {
   "cell_type": "markdown",
   "id": "33a1d63c-e550-4276-9613-64094a6e16cb",
   "metadata": {},
   "source": [
    "**identidade_genero**\n",
    "\n",
    "Tirando valores que não são adequados para a coluna ou não agregam valor, como 'Sim' ou 'Não'."
   ]
  },
  {
   "cell_type": "code",
   "execution_count": 17,
   "id": "df2a700d-790e-4de8-a272-a307df384f68",
   "metadata": {
    "execution": {
     "iopub.execute_input": "2025-02-19T01:20:44.114887Z",
     "iopub.status.busy": "2025-02-19T01:20:44.114658Z",
     "iopub.status.idle": "2025-02-19T01:20:44.152144Z",
     "shell.execute_reply": "2025-02-19T01:20:44.151580Z",
     "shell.execute_reply.started": "2025-02-19T01:20:44.114870Z"
    }
   },
   "outputs": [],
   "source": [
    "valores_invalidos = [\n",
    "    \"Não\", \"Sim\", \"Homossexual (gay / lésbica)\", \"Heterossexual\", \"Bissexual\", \n",
    "]\n",
    "df[\"identidade_genero\"] = df[\"identidade_genero\"].replace(valores_invalidos, np.nan)"
   ]
  },
  {
   "cell_type": "markdown",
   "id": "ed0b3a42-cb3f-428d-a2f3-b8189f56c30e",
   "metadata": {},
   "source": [
    "**situacao_profissional**\n",
    "\n",
    "Tomando a decisão de transformar \"Autônomo sem previdência social\", \"Autônomo com previdência social\" em \"Autônomo\" pois já existe o \"Autônomo\" e talvez não seja possível induzir qual especialização ele mais se adeque, e por isso, é preferível generalizar. Além disso, generalizando um caso de 'Médico Urologista' e tirando um caso que aparenta sair do contexto da coluna."
   ]
  },
  {
   "cell_type": "code",
   "execution_count": 18,
   "id": "c1c84bc3-638a-467d-bd9c-c31c7e5e2594",
   "metadata": {
    "execution": {
     "iopub.execute_input": "2025-02-19T01:20:44.153290Z",
     "iopub.status.busy": "2025-02-19T01:20:44.153041Z",
     "iopub.status.idle": "2025-02-19T01:20:44.177422Z",
     "shell.execute_reply": "2025-02-19T01:20:44.176406Z",
     "shell.execute_reply.started": "2025-02-19T01:20:44.153271Z"
    }
   },
   "outputs": [],
   "source": [
    "valores_invalidos = [\n",
    "    \"Autônomo sem previdência social\", \"Autônomo com previdência social\", \n",
    "]\n",
    "df[\"situacao_profissional\"] = df[\"situacao_profissional\"].replace(valores_invalidos, \"Autônomo\")\n",
    "df[\"situacao_profissional\"] = df[\"situacao_profissional\"].replace(\"Médico Urologista\", \"Emprego Formal\")\n",
    "df[\"situacao_profissional\"] = df[\"situacao_profissional\"].replace(\"SMS CAPS DIRCINHA E LINDA BATISTA AP 33\", np.nan)"
   ]
  },
  {
   "cell_type": "markdown",
   "id": "f610fee7-8a4f-4cb9-aec2-ee7c2c8c0a9a",
   "metadata": {},
   "source": [
    "**pressao_sistolica e diastolica**\n",
    "\n",
    "Nesse caso é válido tirar os outliers que não se adequam como valores normais de medida de pressão, provavelmente causado por erro de digitação ou em alguma parte do processo. Irei tirar ou outliers baseado no método de Tukey, que consiste em definir os limites inferior e superior a partir do interquartil (IQR) e dos primeiros (Q1) e terceiros (Q3) quartis."
   ]
  },
  {
   "cell_type": "code",
   "execution_count": 19,
   "id": "9823da0f-2bd6-467e-a326-eb3b59ab327c",
   "metadata": {
    "execution": {
     "iopub.execute_input": "2025-02-19T01:20:44.178964Z",
     "iopub.status.busy": "2025-02-19T01:20:44.178423Z",
     "iopub.status.idle": "2025-02-19T01:20:44.188457Z",
     "shell.execute_reply": "2025-02-19T01:20:44.187464Z",
     "shell.execute_reply.started": "2025-02-19T01:20:44.178943Z"
    }
   },
   "outputs": [],
   "source": [
    "q1, q3 = df['pressao_sistolica'].quantile([0.25, 0.75])\n",
    "intervalo_interquartil = (q3 - q1)\n",
    "PAS_limite_inf = q1 - 1.5*intervalo_interquartil\n",
    "PAS_limite_sup = q3 + 1.5*intervalo_interquartil"
   ]
  },
  {
   "cell_type": "markdown",
   "id": "49b5137e-c5cd-4dcc-9db9-dfa687a4911d",
   "metadata": {
    "execution": {
     "iopub.execute_input": "2025-02-16T16:25:12.174383Z",
     "iopub.status.busy": "2025-02-16T16:25:12.174116Z",
     "iopub.status.idle": "2025-02-16T16:25:12.179877Z",
     "shell.execute_reply": "2025-02-16T16:25:12.178822Z",
     "shell.execute_reply.started": "2025-02-16T16:25:12.174365Z"
    }
   },
   "source": [
    "Considerando a tabela II do [III Consenso Brasileiro de Hipertensão Arterial](https://bvsms.saude.gov.br/bvs/publicacoes/III_consenso_bras_hip_arterial.pdf), temos a seguinte tabela:\n",
    "\n",
    "| **PAD (mmHg)** | **PAS (mmHg)** | **Classificação**                          |\n",
    "|---------------|---------------|------------------------------------------|\n",
    "| < 85         | < 130         | Normal                                   |\n",
    "| 85-89        | 130-139       | Normal limítrofe                        |\n",
    "| 90-99        | 140-159       | Hipertensão leve (estágio 1)            |\n",
    "| 100-109      | 160-179       | Hipertensão moderada (estágio 2)        |\n",
    "| > 110        | > 180         | Hipertensão grave (estágio 3)           |\n",
    "| < 90         | > 140         | Hipertensão sistólica isolada           |\n",
    "\n",
    "Isso mostra que para o intervalo que estamos definindo, abrangemos maior parte dos casos, e conseguimos inferir em qual categoria cada registro se encontra, podendo até criar uma nova categoria com essa classificação. O interessante agora é pensar o que podemos fazer com os outliers, pois são dados que estão muito no extremo.\n",
    "\n",
    "Com os limites entre 90, e 170 mmHg, estamos lidando com aproximadamente 90% dos valores da coluna."
   ]
  },
  {
   "cell_type": "code",
   "execution_count": 20,
   "id": "ab804ad1-6300-4500-9e36-0e29e50dbb16",
   "metadata": {
    "execution": {
     "iopub.execute_input": "2025-02-19T01:20:44.189671Z",
     "iopub.status.busy": "2025-02-19T01:20:44.189372Z",
     "iopub.status.idle": "2025-02-19T01:20:44.199090Z",
     "shell.execute_reply": "2025-02-19T01:20:44.198156Z",
     "shell.execute_reply.started": "2025-02-19T01:20:44.189654Z"
    }
   },
   "outputs": [],
   "source": [
    "q1, q3 = df['pressao_diastolica'].quantile([0.25, 0.75])\n",
    "intervalo_interquartil = (q3 - q1)\n",
    "PAD_limite_inf = q1 - 1.5*intervalo_interquartil\n",
    "PAD_limite_sup = q3 + 1.5*intervalo_interquartil"
   ]
  },
  {
   "cell_type": "markdown",
   "id": "985295c7-1b4d-4893-9698-4f1bce432c68",
   "metadata": {
    "execution": {
     "iopub.execute_input": "2025-02-16T16:25:12.174383Z",
     "iopub.status.busy": "2025-02-16T16:25:12.174116Z",
     "iopub.status.idle": "2025-02-16T16:25:12.179877Z",
     "shell.execute_reply": "2025-02-16T16:25:12.178822Z",
     "shell.execute_reply.started": "2025-02-16T16:25:12.174365Z"
    }
   },
   "source": [
    "---\n",
    "Verificando a parte um caso de comparar a pressão com a data de nascimento, pois aí poderíamos comparar a idade do paciente com a pressão, pois cheguei a comentar com um médico sobre a relação entre idade e diferença das pressões sistólica e diastólica, e em tese quanto mais velho, maior pode subir os valores, porém não parece ter essa relação bem definida (Basta executar a célular a baixo para verificar isso). Por precaução, vou seguir os limites definido pelo método de Tukey para definir que os dados que estiverem fora dos limites, são outliers, e esses são dados que necessitam de uma maior verificação para poderem serem utilizados. Por isso tornarei criarei uma coluna extra para notificar quais registros aparentam ter dados muitos discrepantes, para maiores observações depois."
   ]
  },
  {
   "cell_type": "code",
   "execution_count": 21,
   "id": "d51070d7-b419-489b-af24-849ca81c18e9",
   "metadata": {
    "execution": {
     "iopub.execute_input": "2025-02-19T01:20:44.200653Z",
     "iopub.status.busy": "2025-02-19T01:20:44.199983Z",
     "iopub.status.idle": "2025-02-19T01:20:44.204659Z",
     "shell.execute_reply": "2025-02-19T01:20:44.203825Z",
     "shell.execute_reply.started": "2025-02-19T01:20:44.200633Z"
    },
    "scrolled": true
   },
   "outputs": [],
   "source": [
    "# df[['data_nascimento', 'pressao_sistolica', 'pressao_diastolica']][df['pressao_sistolica'] > 200]"
   ]
  },
  {
   "cell_type": "markdown",
   "id": "ddf40ddc-a590-4608-bc52-6d2c616cc95f",
   "metadata": {
    "execution": {
     "iopub.execute_input": "2025-02-16T17:35:51.086058Z",
     "iopub.status.busy": "2025-02-16T17:35:51.085778Z",
     "iopub.status.idle": "2025-02-16T17:35:51.100000Z",
     "shell.execute_reply": "2025-02-16T17:35:51.098899Z",
     "shell.execute_reply.started": "2025-02-16T17:35:51.086038Z"
    }
   },
   "source": [
    "Com os limites envolvidos estaríamos envolvendo cerca de 98% dos dados da coluna, só tratando próximo de 2% dos casos."
   ]
  },
  {
   "cell_type": "code",
   "execution_count": 23,
   "id": "cc9f0223-9104-440a-9ea9-3c6f76184aff",
   "metadata": {
    "execution": {
     "iopub.execute_input": "2025-02-19T01:40:01.287082Z",
     "iopub.status.busy": "2025-02-19T01:40:01.286195Z",
     "iopub.status.idle": "2025-02-19T01:40:03.025246Z",
     "shell.execute_reply": "2025-02-19T01:40:03.024174Z",
     "shell.execute_reply.started": "2025-02-19T01:40:01.287059Z"
    }
   },
   "outputs": [],
   "source": [
    "# Código para remover dados acima dos limites. REFAZER PARA CRIAR TERCEIRA COLUNA PARA DEFINIR CASOS QUE PRECISAM SER VERIFICADOS.\n",
    "\n",
    "def verif_pressao(row: float | int, lim_inf: float, lim_sup: float):\n",
    "    return False if lim_inf < row < lim_sup else True\n",
    "\n",
    "# Verificando as pressões e criando a coluna de verificação para cada uma\n",
    "df['verificacao_pressao_sistolica'] = df.apply(lambda x: verif_pressao(x['pressao_sistolica'], PAS_limite_inf, PAS_limite_sup), axis=1)\n",
    "df['verificacao_pressao_diastolica'] = df.apply(lambda x: verif_pressao(x['pressao_diastolica'], PAD_limite_inf, PAD_limite_sup), axis=1)\n",
    "\n",
    "# Criando a terceira coluna para casos que precisam ser verificados\n",
    "df['verificacao_pressao'] = df['verificacao_pressao_sistolica'] | df['verificacao_pressao_diastolica']\n",
    "df.drop(['verificacao_pressao_sistolica', 'verificacao_pressao_diastolica'], axis=1, inplace=True)"
   ]
  },
  {
   "cell_type": "markdown",
   "id": "42fc7101-0323-4d7f-959e-666bf335fab8",
   "metadata": {},
   "source": [
    "**Colunas criadas pelo tratamento de colunas que não se enquadram**\n",
    "\n",
    "Pelo tratamento feito para lidar com as colunas que os dados não se enquadram, como os exemplos a seguir: 'meios_comunicacao_3 Salários Mínimos', 'meios_comunicacao_4 Salários Mínimos', 'meios_comunicacao_Mais de 4 Salários Mínimos', 'em_caso_doenca_procura_1 Salário Mínimo'.\n",
    "\n",
    "Provavelmente esses dados foram adicionados de forma errada, e não agregam para análises e levantamento de dados. Por isso, essas colunas serão excluídas."
   ]
  },
  {
   "cell_type": "code",
   "execution_count": 24,
   "id": "b48f7be2-ce8e-4d82-8778-f0bff4ccd558",
   "metadata": {
    "execution": {
     "iopub.execute_input": "2025-02-19T01:40:06.271510Z",
     "iopub.status.busy": "2025-02-19T01:40:06.271230Z",
     "iopub.status.idle": "2025-02-19T01:40:06.301516Z",
     "shell.execute_reply": "2025-02-19T01:40:06.300534Z",
     "shell.execute_reply.started": "2025-02-19T01:40:06.271492Z"
    }
   },
   "outputs": [],
   "source": [
    "# Tratamendo de colunas extras.\n",
    "df.drop(['meios_comunicacao_3 Salários Mínimos', \n",
    "        'meios_comunicacao_4 Salários Mínimos', \n",
    "        'meios_comunicacao_Mais de 4 Salários Mínimos', \n",
    "        'em_caso_doenca_procura_1 Salário Mínimo'], axis=1,\n",
    "       inplace=True)"
   ]
  },
  {
   "cell_type": "code",
   "execution_count": 25,
   "id": "209cad11-380a-4358-a42b-99dabe3fba7c",
   "metadata": {
    "execution": {
     "iopub.execute_input": "2025-02-19T01:40:06.967748Z",
     "iopub.status.busy": "2025-02-19T01:40:06.967483Z",
     "iopub.status.idle": "2025-02-19T01:40:06.972348Z",
     "shell.execute_reply": "2025-02-19T01:40:06.971368Z",
     "shell.execute_reply.started": "2025-02-19T01:40:06.967730Z"
    }
   },
   "outputs": [],
   "source": [
    "# df.columns"
   ]
  },
  {
   "cell_type": "markdown",
   "id": "d9517187-ea8a-4393-86ea-005c9efee58d",
   "metadata": {},
   "source": [
    "Por fim, esses dados vão ser guardados em um arquivo csv para maior análises em outro notebook para não ficar refazendo esse processo sempre, farei uma padronização de nome de coluna para facilitar identificação e para colocar em um banco de dados de forma adequada. Esses tratamento provavelmente serão base para fazer o processo do código modularizado e legível para o modelo dbt."
   ]
  },
  {
   "cell_type": "code",
   "execution_count": 26,
   "id": "281c7ef4-4796-4e0b-8b4c-900aa3ee0500",
   "metadata": {
    "execution": {
     "iopub.execute_input": "2025-02-19T01:40:08.686468Z",
     "iopub.status.busy": "2025-02-19T01:40:08.685873Z",
     "iopub.status.idle": "2025-02-19T01:40:08.701593Z",
     "shell.execute_reply": "2025-02-19T01:40:08.700447Z",
     "shell.execute_reply.started": "2025-02-19T01:40:08.686449Z"
    }
   },
   "outputs": [],
   "source": [
    "import re\n",
    "from unidecode import unidecode\n",
    "\n",
    "# Função para padronizar nomes das colunas\n",
    "def padronizar_nome_coluna(nome):\n",
    "    nome = unidecode(nome)  # Remove acentos\n",
    "    nome = nome.lower()  # Converte para minúsculas\n",
    "    nome = re.sub(r'[^a-z0-9_]', '_', nome)  # Substitui caracteres especiais por \"_\"\n",
    "    nome = re.sub(r'_+', '_', nome).strip('_')  # Remove múltiplos \"_\" seguidos\n",
    "    return nome\n",
    "    \n",
    "# Aplicando a padronização nas colunas do DataFrame existente\n",
    "df.columns = [padronizar_nome_coluna(col) for col in df.columns]"
   ]
  },
  {
   "cell_type": "code",
   "execution_count": 27,
   "id": "ca1e74b7-21ec-4a6a-8120-b37377135e0d",
   "metadata": {
    "execution": {
     "iopub.execute_input": "2025-02-19T01:40:09.054457Z",
     "iopub.status.busy": "2025-02-19T01:40:09.054193Z",
     "iopub.status.idle": "2025-02-19T01:40:11.608523Z",
     "shell.execute_reply": "2025-02-19T01:40:11.607710Z",
     "shell.execute_reply.started": "2025-02-19T01:40:09.054438Z"
    }
   },
   "outputs": [],
   "source": [
    "df.to_csv('../data/processed/dados_ficha_a_desafio_processed.csv', index=False)"
   ]
  },
  {
   "cell_type": "code",
   "execution_count": null,
   "id": "fc175074-903a-48da-9b70-f1552bc8c24a",
   "metadata": {},
   "outputs": [],
   "source": []
  }
 ],
 "metadata": {
  "kernelspec": {
   "display_name": "Python 3 (ipykernel)",
   "language": "python",
   "name": "python3"
  },
  "language_info": {
   "codemirror_mode": {
    "name": "ipython",
    "version": 3
   },
   "file_extension": ".py",
   "mimetype": "text/x-python",
   "name": "python",
   "nbconvert_exporter": "python",
   "pygments_lexer": "ipython3",
   "version": "3.12.3"
  }
 },
 "nbformat": 4,
 "nbformat_minor": 5
}
